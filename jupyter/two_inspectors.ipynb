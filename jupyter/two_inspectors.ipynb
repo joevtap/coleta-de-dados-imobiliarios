{
 "cells": [
  {
   "cell_type": "markdown",
   "id": "77cc3204",
   "metadata": {},
   "source": [
    "# Segunda parte do problema - Dois inspetores\n",
    "\n",
    "A segunda parte do problema proposto ainda consiste na coleta dos dados imobiliários de todas as casas do bairro, mas dessa vez com dois inspetores ao invés de um."
   ]
  },
  {
   "cell_type": "markdown",
   "id": "59240da1",
   "metadata": {},
   "source": [
    "Para isso, a solução lógica é dividir o grafo que representa o bairro em duas partes com aproximadamente o mesmo custo de travessia.\n",
    "\n",
    "Antes do desenvolvimento da solução proposta pelo grupo, vale lembrar algumas **decisões definidas na modelagem**:\n",
    "\n",
    "1. O grafo representa o bairro a ser inspecionado. Arestas representam ruas e vértices representam interseções entre elas.\n",
    "2. O grafo é simples e ponderado, ao passo que o peso de uma aresta representa a **quantidade de casas** a serem inspecionadas em uma rua, **independentemente da distância a ser percorrida**.\n",
    "3. No caso de terrenos percorríveis a pé, senão ruas, o inspetor deve preferir a passagem pelas ruas, visando maximizar a capacidade de inspeção.\n",
    "\n",
    "Outrossim, consideremos o seguinte:\n",
    "\n",
    "1. Enquanto um dos dois inspetores estiver a caminho da sua rota definida, as ruas pelas quais passar não terão suas casas inspecionadas. Dessa forma, o peso dessas arestas é 0 (pois o inspetor está em trânsito e não coletando dados imobiliários).\n",
    "2. Um inspetor a caminho de sua rota não precisa seguir a regra de preferir a passagem pelas ruas, já que está apenas em trânsito. Portanto, pode \"cortar caminho\" passando por terrenos transitáveis (os quais serão modelados como arestas de custo 0)."
   ]
  },
  {
   "cell_type": "code",
   "execution_count": 1,
   "id": "e3c43fc7",
   "metadata": {},
   "outputs": [],
   "source": [
    "import pandas as pd\n",
    "from problem_data import * # INSPECTOR_1_NODES, INSPECTOR_2_NODES, EDGE_LIST"
   ]
  },
  {
   "cell_type": "markdown",
   "id": "da2ef611",
   "metadata": {},
   "source": [
    "Grafo foi divido manualmente ao meio. De modo a aproximar os custos totais das duas metades, mas manter a facilidade de reconhecimento da rota por parte do inspetor."
   ]
  },
  {
   "cell_type": "code",
   "execution_count": 2,
   "id": "002bb517",
   "metadata": {},
   "outputs": [],
   "source": [
    "# Usando EDGE_LIST gerar edge lists para o inspetor 1 e 2\n",
    "\n",
    "INSPECTOR_1_EDGES = [\n",
    "    x for x in EDGE_LIST if x['node_1'] in [x['id'] for x in INSPECTOR_1_NODES] and x['node_2'] in [x['id'] for x in INSPECTOR_1_NODES]\n",
    "]\n",
    "\n",
    "INSPECTOR_2_EDGES = [\n",
    "    x for x in EDGE_LIST if x['node_1'] in [x['id'] for x in INSPECTOR_2_NODES] and x['node_2'] in [x['id'] for x in INSPECTOR_2_NODES]\n",
    "]"
   ]
  },
  {
   "cell_type": "code",
   "execution_count": 3,
   "id": "ded5a93a",
   "metadata": {},
   "outputs": [],
   "source": [
    "# Adicionando arestas de custo 0 para ligar a rota do inspetor 2 à base\n",
    "\n",
    "INSPECTOR_2_EDGES.append({'node_1': 45, 'node_2': 46, 'weight': 0, 'color': 'black'})\n",
    "INSPECTOR_2_EDGES.append({'node_1': 46, 'node_2': 47, 'weight': 0, 'color': 'black'})\n",
    "INSPECTOR_2_EDGES.append({'node_1': 47, 'node_2': 48, 'weight': 0, 'color': 'black'})\n",
    "INSPECTOR_2_EDGES.append({'node_1': 48, 'node_2': 49, 'weight': 0, 'color': 'black'})\n",
    "INSPECTOR_2_EDGES.append({'node_1': 49, 'node_2': 50, 'weight': 0, 'color': 'black'})"
   ]
  },
  {
   "cell_type": "code",
   "execution_count": 4,
   "id": "8a9b95d4",
   "metadata": {},
   "outputs": [
    {
     "name": "stdout",
     "output_type": "stream",
     "text": [
      "import pandas as pd\n",
      "\n",
      "INSPECTOR_1_EDGES = [{'node_1': 5, 'node_2': 6, 'weight': 9, 'color': 'black'}, {'node_1': 5, 'node_2': 20, 'weight': 8, 'color': 'black'}, {'node_1': 6, 'node_2': 5, 'weight': 9, 'color': 'black'}, {'node_1': 6, 'node_2': 7, 'weight': 9, 'color': 'black'}, {'node_1': 6, 'node_2': 21, 'weight': 4, 'color': 'black'}, {'node_1': 7, 'node_2': 6, 'weight': 9, 'color': 'black'}, {'node_1': 7, 'node_2': 8, 'weight': 5, 'color': 'black'}, {'node_1': 7, 'node_2': 22, 'weight': 5, 'color': 'black'}, {'node_1': 8, 'node_2': 7, 'weight': 5, 'color': 'black'}, {'node_1': 8, 'node_2': 9, 'weight': 16, 'color': 'black'}, {'node_1': 8, 'node_2': 23, 'weight': 9, 'color': 'black'}, {'node_1': 9, 'node_2': 8, 'weight': 16, 'color': 'black'}, {'node_1': 9, 'node_2': 10, 'weight': 2, 'color': 'black'}, {'node_1': 9, 'node_2': 24, 'weight': 1, 'color': 'black'}, {'node_1': 10, 'node_2': 9, 'weight': 2, 'color': 'black'}, {'node_1': 10, 'node_2': 11, 'weight': 14, 'color': 'black'}, {'node_1': 10, 'node_2': 26, 'weight': 1, 'color': 'black'}, {'node_1': 11, 'node_2': 10, 'weight': 14, 'color': 'black'}, {'node_1': 11, 'node_2': 27, 'weight': 2, 'color': 'black'}, {'node_1': 20, 'node_2': 5, 'weight': 8, 'color': 'black'}, {'node_1': 20, 'node_2': 21, 'weight': 6, 'color': 'black'}, {'node_1': 20, 'node_2': 33, 'weight': 12, 'color': 'black'}, {'node_1': 21, 'node_2': 6, 'weight': 4, 'color': 'black'}, {'node_1': 21, 'node_2': 20, 'weight': 6, 'color': 'black'}, {'node_1': 21, 'node_2': 22, 'weight': 8, 'color': 'black'}, {'node_1': 21, 'node_2': 34, 'weight': 9, 'color': 'black'}, {'node_1': 22, 'node_2': 7, 'weight': 5, 'color': 'black'}, {'node_1': 22, 'node_2': 21, 'weight': 8, 'color': 'black'}, {'node_1': 22, 'node_2': 23, 'weight': 5, 'color': 'black'}, {'node_1': 22, 'node_2': 35, 'weight': 10, 'color': 'black'}, {'node_1': 23, 'node_2': 8, 'weight': 9, 'color': 'black'}, {'node_1': 23, 'node_2': 22, 'weight': 5, 'color': 'black'}, {'node_1': 23, 'node_2': 24, 'weight': 11, 'color': 'black'}, {'node_1': 23, 'node_2': 36, 'weight': 11, 'color': 'black'}, {'node_1': 24, 'node_2': 9, 'weight': 1, 'color': 'black'}, {'node_1': 24, 'node_2': 23, 'weight': 11, 'color': 'black'}, {'node_1': 24, 'node_2': 25, 'weight': 4, 'color': 'black'}, {'node_1': 24, 'node_2': 37, 'weight': 14, 'color': 'black'}, {'node_1': 25, 'node_2': 24, 'weight': 4, 'color': 'black'}, {'node_1': 25, 'node_2': 26, 'weight': 1, 'color': 'black'}, {'node_1': 25, 'node_2': 38, 'weight': 6, 'color': 'black'}, {'node_1': 26, 'node_2': 10, 'weight': 1, 'color': 'black'}, {'node_1': 26, 'node_2': 25, 'weight': 1, 'color': 'black'}, {'node_1': 26, 'node_2': 27, 'weight': 14, 'color': 'black'}, {'node_1': 26, 'node_2': 39, 'weight': 13, 'color': 'black'}, {'node_1': 27, 'node_2': 11, 'weight': 2, 'color': 'black'}, {'node_1': 27, 'node_2': 26, 'weight': 14, 'color': 'black'}, {'node_1': 27, 'node_2': 40, 'weight': 12, 'color': 'black'}, {'node_1': 33, 'node_2': 20, 'weight': 12, 'color': 'black'}, {'node_1': 33, 'node_2': 34, 'weight': 11, 'color': 'black'}, {'node_1': 33, 'node_2': 45, 'weight': 3, 'color': 'black'}, {'node_1': 34, 'node_2': 21, 'weight': 9, 'color': 'black'}, {'node_1': 34, 'node_2': 33, 'weight': 11, 'color': 'black'}, {'node_1': 34, 'node_2': 35, 'weight': 7, 'color': 'black'}, {'node_1': 34, 'node_2': 46, 'weight': 4, 'color': 'black'}, {'node_1': 35, 'node_2': 22, 'weight': 10, 'color': 'black'}, {'node_1': 35, 'node_2': 34, 'weight': 7, 'color': 'black'}, {'node_1': 35, 'node_2': 36, 'weight': 7, 'color': 'black'}, {'node_1': 35, 'node_2': 47, 'weight': 4, 'color': 'black'}, {'node_1': 36, 'node_2': 23, 'weight': 11, 'color': 'black'}, {'node_1': 36, 'node_2': 35, 'weight': 7, 'color': 'black'}, {'node_1': 36, 'node_2': 37, 'weight': 4, 'color': 'black'}, {'node_1': 36, 'node_2': 48, 'weight': 1, 'color': 'black'}, {'node_1': 37, 'node_2': 24, 'weight': 14, 'color': 'black'}, {'node_1': 37, 'node_2': 36, 'weight': 4, 'color': 'black'}, {'node_1': 37, 'node_2': 38, 'weight': 8, 'color': 'black'}, {'node_1': 37, 'node_2': 49, 'weight': 2, 'color': 'black'}, {'node_1': 38, 'node_2': 25, 'weight': 6, 'color': 'black'}, {'node_1': 38, 'node_2': 37, 'weight': 8, 'color': 'black'}, {'node_1': 38, 'node_2': 39, 'weight': 5, 'color': 'black'}, {'node_1': 38, 'node_2': 50, 'weight': 2, 'color': 'black'}, {'node_1': 39, 'node_2': 26, 'weight': 13, 'color': 'black'}, {'node_1': 39, 'node_2': 38, 'weight': 5, 'color': 'black'}, {'node_1': 39, 'node_2': 40, 'weight': 13, 'color': 'black'}, {'node_1': 39, 'node_2': 51, 'weight': 2, 'color': 'black'}, {'node_1': 40, 'node_2': 27, 'weight': 12, 'color': 'black'}, {'node_1': 40, 'node_2': 39, 'weight': 13, 'color': 'black'}, {'node_1': 40, 'node_2': 52, 'weight': 4, 'color': 'black'}, {'node_1': 45, 'node_2': 33, 'weight': 3, 'color': 'black'}, {'node_1': 45, 'node_2': 46, 'weight': 7, 'color': 'black'}, {'node_1': 45, 'node_2': 58, 'weight': 2, 'color': 'black'}, {'node_1': 46, 'node_2': 34, 'weight': 4, 'color': 'black'}, {'node_1': 46, 'node_2': 45, 'weight': 7, 'color': 'black'}, {'node_1': 46, 'node_2': 47, 'weight': 7, 'color': 'black'}, {'node_1': 46, 'node_2': 59, 'weight': 4, 'color': 'black'}, {'node_1': 47, 'node_2': 35, 'weight': 4, 'color': 'black'}, {'node_1': 47, 'node_2': 46, 'weight': 7, 'color': 'black'}, {'node_1': 47, 'node_2': 48, 'weight': 4, 'color': 'black'}, {'node_1': 47, 'node_2': 60, 'weight': 4, 'color': 'black'}, {'node_1': 48, 'node_2': 36, 'weight': 1, 'color': 'black'}, {'node_1': 48, 'node_2': 47, 'weight': 4, 'color': 'black'}, {'node_1': 48, 'node_2': 61, 'weight': 2, 'color': 'black'}, {'node_1': 49, 'node_2': 37, 'weight': 2, 'color': 'black'}, {'node_1': 49, 'node_2': 50, 'weight': 5, 'color': 'black'}, {'node_1': 49, 'node_2': 62, 'weight': 2, 'color': 'black'}, {'node_1': 50, 'node_2': 38, 'weight': 2, 'color': 'black'}, {'node_1': 50, 'node_2': 49, 'weight': 5, 'color': 'black'}, {'node_1': 50, 'node_2': 51, 'weight': 6, 'color': 'black'}, {'node_1': 50, 'node_2': 63, 'weight': 3, 'color': 'black'}, {'node_1': 51, 'node_2': 39, 'weight': 2, 'color': 'black'}, {'node_1': 51, 'node_2': 50, 'weight': 6, 'color': 'black'}, {'node_1': 51, 'node_2': 52, 'weight': 15, 'color': 'black'}, {'node_1': 51, 'node_2': 64, 'weight': 2, 'color': 'black'}, {'node_1': 52, 'node_2': 40, 'weight': 4, 'color': 'black'}, {'node_1': 52, 'node_2': 51, 'weight': 15, 'color': 'black'}, {'node_1': 52, 'node_2': 65, 'weight': 3, 'color': 'black'}, {'node_1': 58, 'node_2': 45, 'weight': 2, 'color': 'black'}, {'node_1': 58, 'node_2': 59, 'weight': 7, 'color': 'black'}, {'node_1': 58, 'node_2': 70, 'weight': 5, 'color': 'black'}, {'node_1': 59, 'node_2': 46, 'weight': 4, 'color': 'black'}, {'node_1': 59, 'node_2': 58, 'weight': 7, 'color': 'black'}, {'node_1': 59, 'node_2': 60, 'weight': 6, 'color': 'black'}, {'node_1': 59, 'node_2': 71, 'weight': 2, 'color': 'black'}, {'node_1': 60, 'node_2': 47, 'weight': 4, 'color': 'black'}, {'node_1': 60, 'node_2': 59, 'weight': 6, 'color': 'black'}, {'node_1': 60, 'node_2': 61, 'weight': 7, 'color': 'black'}, {'node_1': 60, 'node_2': 72, 'weight': 4, 'color': 'black'}, {'node_1': 61, 'node_2': 48, 'weight': 2, 'color': 'black'}, {'node_1': 61, 'node_2': 60, 'weight': 7, 'color': 'black'}, {'node_1': 61, 'node_2': 62, 'weight': 4, 'color': 'black'}, {'node_1': 62, 'node_2': 49, 'weight': 2, 'color': 'black'}, {'node_1': 62, 'node_2': 61, 'weight': 4, 'color': 'black'}, {'node_1': 62, 'node_2': 63, 'weight': 6, 'color': 'black'}, {'node_1': 62, 'node_2': 73, 'weight': 1, 'color': 'black'}, {'node_1': 63, 'node_2': 50, 'weight': 3, 'color': 'black'}, {'node_1': 63, 'node_2': 62, 'weight': 6, 'color': 'black'}, {'node_1': 63, 'node_2': 64, 'weight': 6, 'color': 'black'}, {'node_1': 63, 'node_2': 74, 'weight': 2, 'color': 'black'}, {'node_1': 64, 'node_2': 51, 'weight': 2, 'color': 'black'}, {'node_1': 64, 'node_2': 63, 'weight': 6, 'color': 'black'}, {'node_1': 64, 'node_2': 65, 'weight': 17, 'color': 'black'}, {'node_1': 64, 'node_2': 75, 'weight': 3, 'color': 'black'}, {'node_1': 65, 'node_2': 52, 'weight': 3, 'color': 'black'}, {'node_1': 65, 'node_2': 64, 'weight': 17, 'color': 'black'}, {'node_1': 65, 'node_2': 76, 'weight': 2, 'color': 'black'}, {'node_1': 70, 'node_2': 58, 'weight': 5, 'color': 'black'}, {'node_1': 70, 'node_2': 71, 'weight': 2, 'color': 'black'}, {'node_1': 71, 'node_2': 59, 'weight': 2, 'color': 'black'}, {'node_1': 71, 'node_2': 70, 'weight': 2, 'color': 'black'}, {'node_1': 71, 'node_2': 72, 'weight': 3, 'color': 'black'}, {'node_1': 72, 'node_2': 60, 'weight': 4, 'color': 'black'}, {'node_1': 72, 'node_2': 71, 'weight': 3, 'color': 'black'}, {'node_1': 72, 'node_2': 73, 'weight': 18, 'color': 'black'}, {'node_1': 72, 'node_2': 77, 'weight': 6, 'color': 'black'}, {'node_1': 73, 'node_2': 62, 'weight': 1, 'color': 'black'}, {'node_1': 73, 'node_2': 72, 'weight': 18, 'color': 'black'}, {'node_1': 73, 'node_2': 74, 'weight': 9, 'color': 'black'}, {'node_1': 73, 'node_2': 78, 'weight': 4, 'color': 'black'}, {'node_1': 74, 'node_2': 63, 'weight': 2, 'color': 'black'}, {'node_1': 74, 'node_2': 73, 'weight': 9, 'color': 'black'}, {'node_1': 74, 'node_2': 75, 'weight': 7, 'color': 'black'}, {'node_1': 75, 'node_2': 64, 'weight': 3, 'color': 'black'}, {'node_1': 75, 'node_2': 74, 'weight': 7, 'color': 'black'}, {'node_1': 75, 'node_2': 76, 'weight': 14, 'color': 'black'}, {'node_1': 75, 'node_2': 79, 'weight': 6, 'color': 'black'}, {'node_1': 76, 'node_2': 65, 'weight': 2, 'color': 'black'}, {'node_1': 76, 'node_2': 75, 'weight': 14, 'color': 'black'}, {'node_1': 76, 'node_2': 80, 'weight': 5, 'color': 'black'}, {'node_1': 77, 'node_2': 72, 'weight': 6, 'color': 'black'}, {'node_1': 77, 'node_2': 78, 'weight': 17, 'color': 'black'}, {'node_1': 78, 'node_2': 73, 'weight': 4, 'color': 'black'}, {'node_1': 78, 'node_2': 77, 'weight': 17, 'color': 'black'}, {'node_1': 79, 'node_2': 75, 'weight': 6, 'color': 'black'}, {'node_1': 79, 'node_2': 80, 'weight': 12, 'color': 'black'}, {'node_1': 80, 'node_2': 76, 'weight': 5, 'color': 'black'}, {'node_1': 80, 'node_2': 79, 'weight': 12, 'color': 'black'}]\n",
      "\n",
      "INSPECTOR_2_EDGES = [{'node_1': 1, 'node_2': 2, 'weight': 18, 'color': 'black'}, {'node_1': 1, 'node_2': 12, 'weight': 8, 'color': 'black'}, {'node_1': 2, 'node_2': 1, 'weight': 18, 'color': 'black'}, {'node_1': 2, 'node_2': 3, 'weight': 22, 'color': 'black'}, {'node_1': 2, 'node_2': 13, 'weight': 10, 'color': 'black'}, {'node_1': 3, 'node_2': 2, 'weight': 22, 'color': 'black'}, {'node_1': 3, 'node_2': 4, 'weight': 20, 'color': 'black'}, {'node_1': 3, 'node_2': 14, 'weight': 11, 'color': 'black'}, {'node_1': 4, 'node_2': 3, 'weight': 20, 'color': 'black'}, {'node_1': 4, 'node_2': 5, 'weight': 7, 'color': 'black'}, {'node_1': 4, 'node_2': 19, 'weight': 11, 'color': 'black'}, {'node_1': 5, 'node_2': 4, 'weight': 7, 'color': 'black'}, {'node_1': 5, 'node_2': 20, 'weight': 8, 'color': 'black'}, {'node_1': 12, 'node_2': 1, 'weight': 8, 'color': 'black'}, {'node_1': 12, 'node_2': 13, 'weight': 13, 'color': 'black'}, {'node_1': 12, 'node_2': 15, 'weight': 2, 'color': 'black'}, {'node_1': 13, 'node_2': 2, 'weight': 10, 'color': 'black'}, {'node_1': 13, 'node_2': 12, 'weight': 13, 'color': 'black'}, {'node_1': 13, 'node_2': 14, 'weight': 21, 'color': 'black'}, {'node_1': 13, 'node_2': 16, 'weight': 2, 'color': 'black'}, {'node_1': 14, 'node_2': 3, 'weight': 11, 'color': 'black'}, {'node_1': 14, 'node_2': 13, 'weight': 21, 'color': 'black'}, {'node_1': 14, 'node_2': 18, 'weight': 2, 'color': 'black'}, {'node_1': 15, 'node_2': 12, 'weight': 2, 'color': 'black'}, {'node_1': 15, 'node_2': 16, 'weight': 13, 'color': 'black'}, {'node_1': 15, 'node_2': 28, 'weight': 10, 'color': 'black'}, {'node_1': 16, 'node_2': 13, 'weight': 2, 'color': 'black'}, {'node_1': 16, 'node_2': 15, 'weight': 13, 'color': 'black'}, {'node_1': 16, 'node_2': 17, 'weight': 9, 'color': 'black'}, {'node_1': 16, 'node_2': 29, 'weight': 11, 'color': 'black'}, {'node_1': 17, 'node_2': 16, 'weight': 9, 'color': 'black'}, {'node_1': 17, 'node_2': 18, 'weight': 14, 'color': 'black'}, {'node_1': 17, 'node_2': 30, 'weight': 7, 'color': 'black'}, {'node_1': 18, 'node_2': 14, 'weight': 2, 'color': 'black'}, {'node_1': 18, 'node_2': 17, 'weight': 14, 'color': 'black'}, {'node_1': 18, 'node_2': 19, 'weight': 13, 'color': 'black'}, {'node_1': 18, 'node_2': 31, 'weight': 10, 'color': 'black'}, {'node_1': 19, 'node_2': 4, 'weight': 11, 'color': 'black'}, {'node_1': 19, 'node_2': 18, 'weight': 13, 'color': 'black'}, {'node_1': 19, 'node_2': 20, 'weight': 4, 'color': 'black'}, {'node_1': 19, 'node_2': 32, 'weight': 9, 'color': 'black'}, {'node_1': 20, 'node_2': 5, 'weight': 8, 'color': 'black'}, {'node_1': 20, 'node_2': 19, 'weight': 4, 'color': 'black'}, {'node_1': 20, 'node_2': 33, 'weight': 12, 'color': 'black'}, {'node_1': 28, 'node_2': 15, 'weight': 10, 'color': 'black'}, {'node_1': 28, 'node_2': 29, 'weight': 16, 'color': 'black'}, {'node_1': 28, 'node_2': 41, 'weight': 5, 'color': 'black'}, {'node_1': 29, 'node_2': 16, 'weight': 11, 'color': 'black'}, {'node_1': 29, 'node_2': 28, 'weight': 16, 'color': 'black'}, {'node_1': 29, 'node_2': 30, 'weight': 8, 'color': 'black'}, {'node_1': 29, 'node_2': 42, 'weight': 5, 'color': 'black'}, {'node_1': 30, 'node_2': 17, 'weight': 7, 'color': 'black'}, {'node_1': 30, 'node_2': 29, 'weight': 8, 'color': 'black'}, {'node_1': 30, 'node_2': 31, 'weight': 8, 'color': 'black'}, {'node_1': 31, 'node_2': 18, 'weight': 10, 'color': 'black'}, {'node_1': 31, 'node_2': 30, 'weight': 8, 'color': 'black'}, {'node_1': 31, 'node_2': 32, 'weight': 9, 'color': 'black'}, {'node_1': 31, 'node_2': 43, 'weight': 4, 'color': 'black'}, {'node_1': 32, 'node_2': 19, 'weight': 9, 'color': 'black'}, {'node_1': 32, 'node_2': 31, 'weight': 9, 'color': 'black'}, {'node_1': 32, 'node_2': 33, 'weight': 8, 'color': 'black'}, {'node_1': 32, 'node_2': 44, 'weight': 4, 'color': 'black'}, {'node_1': 33, 'node_2': 20, 'weight': 12, 'color': 'black'}, {'node_1': 33, 'node_2': 32, 'weight': 8, 'color': 'black'}, {'node_1': 33, 'node_2': 45, 'weight': 3, 'color': 'black'}, {'node_1': 41, 'node_2': 28, 'weight': 5, 'color': 'black'}, {'node_1': 41, 'node_2': 42, 'weight': 13, 'color': 'black'}, {'node_1': 41, 'node_2': 53, 'weight': 6, 'color': 'black'}, {'node_1': 42, 'node_2': 29, 'weight': 5, 'color': 'black'}, {'node_1': 42, 'node_2': 41, 'weight': 13, 'color': 'black'}, {'node_1': 42, 'node_2': 43, 'weight': 18, 'color': 'black'}, {'node_1': 42, 'node_2': 54, 'weight': 4, 'color': 'black'}, {'node_1': 43, 'node_2': 31, 'weight': 4, 'color': 'black'}, {'node_1': 43, 'node_2': 42, 'weight': 18, 'color': 'black'}, {'node_1': 43, 'node_2': 44, 'weight': 10, 'color': 'black'}, {'node_1': 43, 'node_2': 56, 'weight': 4, 'color': 'black'}, {'node_1': 44, 'node_2': 32, 'weight': 4, 'color': 'black'}, {'node_1': 44, 'node_2': 43, 'weight': 10, 'color': 'black'}, {'node_1': 44, 'node_2': 45, 'weight': 6, 'color': 'black'}, {'node_1': 44, 'node_2': 57, 'weight': 3, 'color': 'black'}, {'node_1': 45, 'node_2': 33, 'weight': 3, 'color': 'black'}, {'node_1': 45, 'node_2': 44, 'weight': 6, 'color': 'black'}, {'node_1': 45, 'node_2': 46, 'weight': 7, 'color': 'black'}, {'node_1': 45, 'node_2': 58, 'weight': 2, 'color': 'black'}, {'node_1': 46, 'node_2': 45, 'weight': 7, 'color': 'black'}, {'node_1': 46, 'node_2': 47, 'weight': 7, 'color': 'black'}, {'node_1': 47, 'node_2': 46, 'weight': 7, 'color': 'black'}, {'node_1': 47, 'node_2': 48, 'weight': 4, 'color': 'black'}, {'node_1': 48, 'node_2': 47, 'weight': 4, 'color': 'black'}, {'node_1': 49, 'node_2': 50, 'weight': 5, 'color': 'black'}, {'node_1': 50, 'node_2': 49, 'weight': 5, 'color': 'black'}, {'node_1': 53, 'node_2': 41, 'weight': 6, 'color': 'black'}, {'node_1': 53, 'node_2': 54, 'weight': 13, 'color': 'black'}, {'node_1': 53, 'node_2': 66, 'weight': 10, 'color': 'black'}, {'node_1': 54, 'node_2': 42, 'weight': 4, 'color': 'black'}, {'node_1': 54, 'node_2': 53, 'weight': 13, 'color': 'black'}, {'node_1': 54, 'node_2': 55, 'weight': 10, 'color': 'black'}, {'node_1': 54, 'node_2': 67, 'weight': 5, 'color': 'black'}, {'node_1': 55, 'node_2': 54, 'weight': 10, 'color': 'black'}, {'node_1': 55, 'node_2': 56, 'weight': 6, 'color': 'black'}, {'node_1': 55, 'node_2': 68, 'weight': 4, 'color': 'black'}, {'node_1': 56, 'node_2': 43, 'weight': 4, 'color': 'black'}, {'node_1': 56, 'node_2': 55, 'weight': 6, 'color': 'black'}, {'node_1': 56, 'node_2': 57, 'weight': 8, 'color': 'black'}, {'node_1': 56, 'node_2': 69, 'weight': 5, 'color': 'black'}, {'node_1': 57, 'node_2': 44, 'weight': 3, 'color': 'black'}, {'node_1': 57, 'node_2': 56, 'weight': 8, 'color': 'black'}, {'node_1': 57, 'node_2': 58, 'weight': 4, 'color': 'black'}, {'node_1': 58, 'node_2': 45, 'weight': 2, 'color': 'black'}, {'node_1': 58, 'node_2': 57, 'weight': 4, 'color': 'black'}, {'node_1': 58, 'node_2': 70, 'weight': 5, 'color': 'black'}, {'node_1': 66, 'node_2': 53, 'weight': 10, 'color': 'black'}, {'node_1': 66, 'node_2': 67, 'weight': 9, 'color': 'black'}, {'node_1': 67, 'node_2': 54, 'weight': 5, 'color': 'black'}, {'node_1': 67, 'node_2': 66, 'weight': 9, 'color': 'black'}, {'node_1': 67, 'node_2': 68, 'weight': 10, 'color': 'black'}, {'node_1': 68, 'node_2': 55, 'weight': 4, 'color': 'black'}, {'node_1': 68, 'node_2': 67, 'weight': 10, 'color': 'black'}, {'node_1': 68, 'node_2': 69, 'weight': 7, 'color': 'black'}, {'node_1': 69, 'node_2': 56, 'weight': 5, 'color': 'black'}, {'node_1': 69, 'node_2': 68, 'weight': 7, 'color': 'black'}, {'node_1': 69, 'node_2': 70, 'weight': 11, 'color': 'black'}, {'node_1': 70, 'node_2': 58, 'weight': 5, 'color': 'black'}, {'node_1': 70, 'node_2': 69, 'weight': 11, 'color': 'black'}, {'node_1': 45, 'node_2': 46, 'weight': 0}, {'node_1': 46, 'node_2': 47, 'weight': 0}, {'node_1': 47, 'node_2': 48, 'weight': 0}, {'node_1': 48, 'node_2': 49, 'weight': 0}, {'node_1': 49, 'node_2': 50, 'weight': 0}]\n",
      "\n",
      "INSPECTOR_1_NODES = [{'id': 5, 'x': 654, 'y': 93}, {'id': 6, 'x': 759, 'y': 82}, {'id': 7, 'x': 864, 'y': 70}, {'id': 8, 'x': 936, 'y': 64}, {'id': 9, 'x': 1129, 'y': 49}, {'id': 10, 'x': 1257, 'y': 37}, {'id': 11, 'x': 1405, 'y': 13}, {'id': 20, 'x': 660, 'y': 232}, {'id': 21, 'x': 763, 'y': 214}, {'id': 22, 'x': 870, 'y': 198}, {'id': 23, 'x': 952, 'y': 178}, {'id': 24, 'x': 1125, 'y': 145}, {'id': 25, 'x': 1219, 'y': 147}, {'id': 26, 'x': 1270, 'y': 120}, {'id': 27, 'x': 1420, 'y': 99}, {'id': 33, 'x': 660, 'y': 381}, {'id': 34, 'x': 771, 'y': 372}, {'id': 35, 'x': 870, 'y': 354}, {'id': 36, 'x': 979, 'y': 339}, {'id': 37, 'x': 1111, 'y': 321}, {'id': 38, 'x': 1210, 'y': 310}, {'id': 39, 'x': 1285, 'y': 304}, {'id': 40, 'x': 1447, 'y': 283}, {'id': 45, 'x': 672, 'y': 484}, {'id': 46, 'x': 778, 'y': 471}, {'id': 47, 'x': 874, 'y': 460}, {'id': 48, 'x': 957, 'y': 444}, {'id': 49, 'x': 1095, 'y': 418}, {'id': 50, 'x': 1203, 'y': 403}, {'id': 51, 'x': 1293, 'y': 403}, {'id': 52, 'x': 1464, 'y': 378}, {'id': 58, 'x': 673, 'y': 588}, {'id': 59, 'x': 783, 'y': 577}, {'id': 60, 'x': 874, 'y': 562}, {'id': 61, 'x': 975, 'y': 553}, {'id': 62, 'x': 1087, 'y': 528}, {'id': 63, 'x': 1215, 'y': 517}, {'id': 64, 'x': 1308, 'y': 498}, {'id': 65, 'x': 1476, 'y': 478}, {'id': 70, 'x': 678, 'y': 694}, {'id': 71, 'x': 786, 'y': 669}, {'id': 72, 'x': 877, 'y': 652}, {'id': 73, 'x': 1102, 'y': 625}, {'id': 74, 'x': 1228, 'y': 607}, {'id': 75, 'x': 1323, 'y': 591}, {'id': 76, 'x': 1489, 'y': 568}, {'id': 77, 'x': 882, 'y': 747}, {'id': 78, 'x': 1111, 'y': 711}, {'id': 79, 'x': 1332, 'y': 705}, {'id': 80, 'x': 1512, 'y': 685}]\n",
      "\n",
      "INSPECTOR_2_NODES = [{'id': 1, 'x': 31, 'y': 144}, {'id': 2, 'x': 201, 'y': 130}, {'id': 3, 'x': 403, 'y': 115}, {'id': 4, 'x': 555, 'y': 100}, {'id': 5, 'x': 654, 'y': 93}, {'id': 12, 'x': 42, 'y': 253}, {'id': 13, 'x': 225, 'y': 243}, {'id': 14, 'x': 421, 'y': 217}, {'id': 15, 'x': 81, 'y': 355}, {'id': 16, 'x': 234, 'y': 316}, {'id': 17, 'x': 322, 'y': 291}, {'id': 18, 'x': 435, 'y': 273}, {'id': 19, 'x': 562, 'y': 250}, {'id': 20, 'x': 660, 'y': 232}, {'id': 28, 'x': 97, 'y': 468}, {'id': 29, 'x': 255, 'y': 450}, {'id': 30, 'x': 346, 'y': 436}, {'id': 31, 'x': 456, 'y': 415}, {'id': 32, 'x': 570, 'y': 396}, {'id': 33, 'x': 660, 'y': 381}, {'id': 41, 'x': 120, 'y': 561}, {'id': 42, 'x': 267, 'y': 537}, {'id': 43, 'x': 474, 'y': 511}, {'id': 44, 'x': 579, 'y': 499}, {'id': 45, 'x': 672, 'y': 484}, {'id': 46, 'x': 778, 'y': 471}, {'id': 47, 'x': 874, 'y': 460}, {'id': 48, 'x': 957, 'y': 444}, {'id': 49, 'x': 1095, 'y': 418}, {'id': 50, 'x': 1203, 'y': 403}, {'id': 53, 'x': 144, 'y': 666}, {'id': 54, 'x': 277, 'y': 646}, {'id': 55, 'x': 406, 'y': 624}, {'id': 56, 'x': 493, 'y': 607}, {'id': 57, 'x': 580, 'y': 595}, {'id': 58, 'x': 673, 'y': 588}, {'id': 66, 'x': 166, 'y': 760}, {'id': 67, 'x': 297, 'y': 747}, {'id': 68, 'x': 426, 'y': 724}, {'id': 69, 'x': 514, 'y': 708}, {'id': 70, 'x': 678, 'y': 694}]\n",
      "\n",
      "INSPECTOR_1_EDGES = pd.DataFrame.from_dict(INSPECTOR_1_EDGES)\n",
      "INSPECTOR_2_EDGES = pd.DataFrame.from_dict(INSPECTOR_2_EDGES)\n",
      "INSPECTOR_1_NODES = pd.DataFrame.from_dict(INSPECTOR_1_NODES)\n",
      "INSPECTOR_2_NODES = pd.DataFrame.from_dict(INSPECTOR_2_NODES)\n"
     ]
    }
   ],
   "source": [
    "# Gera conteudo de arquivo .py contendo as novas listas\n",
    "\n",
    "print('import pandas as pd', end='\\n\\n')\n",
    "print(f'INSPECTOR_1_EDGES = {INSPECTOR_1_EDGES}', end='\\n\\n')\n",
    "print(f'INSPECTOR_2_EDGES = {INSPECTOR_2_EDGES}', end='\\n\\n')\n",
    "print(f'INSPECTOR_1_NODES = {INSPECTOR_1_NODES}', end='\\n\\n')\n",
    "print(f'INSPECTOR_2_NODES = {INSPECTOR_2_NODES}', end='\\n\\n')\n",
    "print('INSPECTOR_1_EDGES = pd.DataFrame.from_dict(INSPECTOR_1_EDGES)')\n",
    "print('INSPECTOR_2_EDGES = pd.DataFrame.from_dict(INSPECTOR_2_EDGES)')\n",
    "print('INSPECTOR_1_NODES = pd.DataFrame.from_dict(INSPECTOR_1_NODES)')\n",
    "print('INSPECTOR_2_NODES = pd.DataFrame.from_dict(INSPECTOR_2_NODES)')"
   ]
  },
  {
   "cell_type": "code",
   "execution_count": null,
   "id": "652a12b5",
   "metadata": {},
   "outputs": [],
   "source": []
  }
 ],
 "metadata": {
  "kernelspec": {
   "display_name": "Python 3 (ipykernel)",
   "language": "python",
   "name": "python3"
  },
  "language_info": {
   "codemirror_mode": {
    "name": "ipython",
    "version": 3
   },
   "file_extension": ".py",
   "mimetype": "text/x-python",
   "name": "python",
   "nbconvert_exporter": "python",
   "pygments_lexer": "ipython3",
   "version": "3.10.7"
  }
 },
 "nbformat": 4,
 "nbformat_minor": 5
}
